{
 "cells": [
  {
   "cell_type": "code",
   "execution_count": 79,
   "metadata": {},
   "outputs": [],
   "source": [
    "docA = \"I am a student from PES Unversity\"\n",
    "docB = \"I am a student of Computer Science\""
   ]
  },
  {
   "cell_type": "code",
   "execution_count": 80,
   "metadata": {},
   "outputs": [],
   "source": [
    "bowA = docA.split(\" \")\n",
    "bowB = docB.split(\" \")"
   ]
  },
  {
   "cell_type": "code",
   "execution_count": 81,
   "metadata": {},
   "outputs": [
    {
     "data": {
      "text/plain": [
       "{'Computer',\n",
       " 'I',\n",
       " 'PES',\n",
       " 'Science',\n",
       " 'Unversity',\n",
       " 'a',\n",
       " 'am',\n",
       " 'from',\n",
       " 'of',\n",
       " 'student'}"
      ]
     },
     "execution_count": 81,
     "metadata": {},
     "output_type": "execute_result"
    }
   ],
   "source": [
    "wordset= set(bowA).union(set(bowB))\n",
    "wordset"
   ]
  },
  {
   "cell_type": "code",
   "execution_count": 82,
   "metadata": {},
   "outputs": [],
   "source": [
    "wordA= dict.fromkeys(wordset,0)\n",
    "wordB= dict.fromkeys(wordset,0)"
   ]
  },
  {
   "cell_type": "code",
   "execution_count": 92,
   "metadata": {},
   "outputs": [],
   "source": [
    "for word in bowA:\n",
    "    wordA[word]+=1\n",
    "    \n",
    "for word in bowB:\n",
    "    wordB[word]+=1\n"
   ]
  },
  {
   "cell_type": "raw",
   "metadata": {},
   "source": []
  },
  {
   "cell_type": "code",
   "execution_count": 84,
   "metadata": {},
   "outputs": [
    {
     "data": {
      "text/html": [
       "<div>\n",
       "<style>\n",
       "    .dataframe thead tr:only-child th {\n",
       "        text-align: right;\n",
       "    }\n",
       "\n",
       "    .dataframe thead th {\n",
       "        text-align: left;\n",
       "    }\n",
       "\n",
       "    .dataframe tbody tr th {\n",
       "        vertical-align: top;\n",
       "    }\n",
       "</style>\n",
       "<table border=\"1\" class=\"dataframe\">\n",
       "  <thead>\n",
       "    <tr style=\"text-align: right;\">\n",
       "      <th></th>\n",
       "      <th>Computer</th>\n",
       "      <th>I</th>\n",
       "      <th>PES</th>\n",
       "      <th>Science</th>\n",
       "      <th>Unversity</th>\n",
       "      <th>a</th>\n",
       "      <th>am</th>\n",
       "      <th>from</th>\n",
       "      <th>of</th>\n",
       "      <th>student</th>\n",
       "    </tr>\n",
       "  </thead>\n",
       "  <tbody>\n",
       "    <tr>\n",
       "      <th>0</th>\n",
       "      <td>0</td>\n",
       "      <td>1</td>\n",
       "      <td>1</td>\n",
       "      <td>0</td>\n",
       "      <td>1</td>\n",
       "      <td>1</td>\n",
       "      <td>1</td>\n",
       "      <td>1</td>\n",
       "      <td>0</td>\n",
       "      <td>1</td>\n",
       "    </tr>\n",
       "    <tr>\n",
       "      <th>1</th>\n",
       "      <td>1</td>\n",
       "      <td>1</td>\n",
       "      <td>0</td>\n",
       "      <td>1</td>\n",
       "      <td>0</td>\n",
       "      <td>1</td>\n",
       "      <td>1</td>\n",
       "      <td>0</td>\n",
       "      <td>1</td>\n",
       "      <td>1</td>\n",
       "    </tr>\n",
       "  </tbody>\n",
       "</table>\n",
       "</div>"
      ],
      "text/plain": [
       "   Computer  I  PES  Science  Unversity  a  am  from  of  student\n",
       "0         0  1    1        0          1  1   1     1   0        1\n",
       "1         1  1    0        1          0  1   1     0   1        1"
      ]
     },
     "execution_count": 84,
     "metadata": {},
     "output_type": "execute_result"
    }
   ],
   "source": [
    "import pandas as pd\n",
    "pd.DataFrame([wordA, wordB])"
   ]
  },
  {
   "cell_type": "code",
   "execution_count": 85,
   "metadata": {
    "collapsed": true
   },
   "outputs": [],
   "source": [
    "def computeTF(word, bow):\n",
    "    tf = {}\n",
    "    bowCount = len(bow)\n",
    "    for word, count in word.items():\n",
    "        tf[word] = count/float(bowCount)\n",
    "    return tf\n",
    "\n",
    "tfBowA = computeTF(wordA, bowA)\n",
    "tfBowB = computeTF(wordB, bowB)\n"
   ]
  },
  {
   "cell_type": "code",
   "execution_count": 86,
   "metadata": {},
   "outputs": [
    {
     "data": {
      "text/plain": [
       "{'Computer': 0.0,\n",
       " 'I': 0.14285714285714285,\n",
       " 'PES': 0.14285714285714285,\n",
       " 'Science': 0.0,\n",
       " 'Unversity': 0.14285714285714285,\n",
       " 'a': 0.14285714285714285,\n",
       " 'am': 0.14285714285714285,\n",
       " 'from': 0.14285714285714285,\n",
       " 'of': 0.0,\n",
       " 'student': 0.14285714285714285}"
      ]
     },
     "execution_count": 86,
     "metadata": {},
     "output_type": "execute_result"
    }
   ],
   "source": [
    "tfBowA"
   ]
  },
  {
   "cell_type": "code",
   "execution_count": 87,
   "metadata": {},
   "outputs": [
    {
     "data": {
      "text/plain": [
       "{'Computer': 0.14285714285714285,\n",
       " 'I': 0.14285714285714285,\n",
       " 'PES': 0.0,\n",
       " 'Science': 0.14285714285714285,\n",
       " 'Unversity': 0.0,\n",
       " 'a': 0.14285714285714285,\n",
       " 'am': 0.14285714285714285,\n",
       " 'from': 0.0,\n",
       " 'of': 0.14285714285714285,\n",
       " 'student': 0.14285714285714285}"
      ]
     },
     "execution_count": 87,
     "metadata": {},
     "output_type": "execute_result"
    }
   ],
   "source": [
    "tfBowB"
   ]
  },
  {
   "cell_type": "code",
   "execution_count": 88,
   "metadata": {},
   "outputs": [
    {
     "data": {
      "text/plain": [
       "{'Computer': 0.3010299956639812,\n",
       " 'I': 0.0,\n",
       " 'PES': 0.3010299956639812,\n",
       " 'Science': 0.3010299956639812,\n",
       " 'Unversity': 0.3010299956639812,\n",
       " 'a': 0.0,\n",
       " 'am': 0.0,\n",
       " 'from': 0.3010299956639812,\n",
       " 'of': 0.3010299956639812,\n",
       " 'student': 0.0}"
      ]
     },
     "execution_count": 88,
     "metadata": {},
     "output_type": "execute_result"
    }
   ],
   "source": [
    "def computeIDF(docList):\n",
    "    import math\n",
    "    idf = {}\n",
    "    N = len(docList)\n",
    "    \n",
    "    idf = dict.fromkeys(docList[0].keys(), 0)\n",
    "    for doc in docList:\n",
    "        for word, val in doc.items():\n",
    "            if val > 0:\n",
    "                idf[word] += 1\n",
    "    \n",
    "    for word, val in idf.items():\n",
    "        idf[word] = math.log10(N / float(val))\n",
    "        \n",
    "    return idf\n",
    "\n",
    "idfs = computeIDF([wordA, wordB])\n",
    "idfs"
   ]
  },
  {
   "cell_type": "code",
   "execution_count": 89,
   "metadata": {
    "collapsed": true
   },
   "outputs": [],
   "source": [
    "def computeTFIDF(tfBow, idfs):\n",
    "    tfidf = {}\n",
    "    for word, val in tfBow.items():\n",
    "        tfidf[word] = val*idfs[word]\n",
    "    return tfidf"
   ]
  },
  {
   "cell_type": "code",
   "execution_count": 90,
   "metadata": {
    "collapsed": true
   },
   "outputs": [],
   "source": [
    "tfidfBowA = computeTFIDF(tfBowA, idfs)\n",
    "tfidfBowB = computeTFIDF(tfBowB, idfs)"
   ]
  },
  {
   "cell_type": "code",
   "execution_count": 91,
   "metadata": {},
   "outputs": [
    {
     "data": {
      "text/html": [
       "<div>\n",
       "<style>\n",
       "    .dataframe thead tr:only-child th {\n",
       "        text-align: right;\n",
       "    }\n",
       "\n",
       "    .dataframe thead th {\n",
       "        text-align: left;\n",
       "    }\n",
       "\n",
       "    .dataframe tbody tr th {\n",
       "        vertical-align: top;\n",
       "    }\n",
       "</style>\n",
       "<table border=\"1\" class=\"dataframe\">\n",
       "  <thead>\n",
       "    <tr style=\"text-align: right;\">\n",
       "      <th></th>\n",
       "      <th>Computer</th>\n",
       "      <th>I</th>\n",
       "      <th>PES</th>\n",
       "      <th>Science</th>\n",
       "      <th>Unversity</th>\n",
       "      <th>a</th>\n",
       "      <th>am</th>\n",
       "      <th>from</th>\n",
       "      <th>of</th>\n",
       "      <th>student</th>\n",
       "    </tr>\n",
       "  </thead>\n",
       "  <tbody>\n",
       "    <tr>\n",
       "      <th>0</th>\n",
       "      <td>0.000000</td>\n",
       "      <td>0.0</td>\n",
       "      <td>0.043004</td>\n",
       "      <td>0.000000</td>\n",
       "      <td>0.043004</td>\n",
       "      <td>0.0</td>\n",
       "      <td>0.0</td>\n",
       "      <td>0.043004</td>\n",
       "      <td>0.000000</td>\n",
       "      <td>0.0</td>\n",
       "    </tr>\n",
       "    <tr>\n",
       "      <th>1</th>\n",
       "      <td>0.043004</td>\n",
       "      <td>0.0</td>\n",
       "      <td>0.000000</td>\n",
       "      <td>0.043004</td>\n",
       "      <td>0.000000</td>\n",
       "      <td>0.0</td>\n",
       "      <td>0.0</td>\n",
       "      <td>0.000000</td>\n",
       "      <td>0.043004</td>\n",
       "      <td>0.0</td>\n",
       "    </tr>\n",
       "  </tbody>\n",
       "</table>\n",
       "</div>"
      ],
      "text/plain": [
       "   Computer    I       PES   Science  Unversity    a   am      from        of  \\\n",
       "0  0.000000  0.0  0.043004  0.000000   0.043004  0.0  0.0  0.043004  0.000000   \n",
       "1  0.043004  0.0  0.000000  0.043004   0.000000  0.0  0.0  0.000000  0.043004   \n",
       "\n",
       "   student  \n",
       "0      0.0  \n",
       "1      0.0  "
      ]
     },
     "execution_count": 91,
     "metadata": {},
     "output_type": "execute_result"
    }
   ],
   "source": [
    "import pandas as pd\n",
    "pd.DataFrame([tfidfBowA, tfidfBowB])"
   ]
  },
  {
   "cell_type": "code",
   "execution_count": null,
   "metadata": {
    "collapsed": true
   },
   "outputs": [],
   "source": []
  },
  {
   "cell_type": "code",
   "execution_count": null,
   "metadata": {
    "collapsed": true
   },
   "outputs": [],
   "source": []
  }
 ],
 "metadata": {
  "kernelspec": {
   "display_name": "Python 3",
   "language": "python",
   "name": "python3"
  },
  "language_info": {
   "codemirror_mode": {
    "name": "ipython",
    "version": 3
   },
   "file_extension": ".py",
   "mimetype": "text/x-python",
   "name": "python",
   "nbconvert_exporter": "python",
   "pygments_lexer": "ipython3",
   "version": "3.6.1"
  }
 },
 "nbformat": 4,
 "nbformat_minor": 2
}
